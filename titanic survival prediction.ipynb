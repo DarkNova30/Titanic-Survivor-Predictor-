{
 "cells": [
  {
   "cell_type": "code",
   "execution_count": 1,
   "id": "63a0c78b",
   "metadata": {},
   "outputs": [],
   "source": [
    "import numpy as np\n",
    "import pandas as pd\n",
    "import matplotlib.pyplot as plt\n",
    "from sklearn.metrics import confusion_matrix\n",
    "from sklearn.model_selection import cross_val_score\n",
    "from sklearn.model_selection import train_test_split\n",
    "from sklearn.metrics import accuracy_score, precision_score, recall_score, f1_score, mean_absolute_error, roc_auc_score"
   ]
  },
  {
   "cell_type": "code",
   "execution_count": 119,
   "id": "0508b2c0",
   "metadata": {
    "scrolled": true
   },
   "outputs": [
    {
     "data": {
      "text/html": [
       "<div>\n",
       "<style scoped>\n",
       "    .dataframe tbody tr th:only-of-type {\n",
       "        vertical-align: middle;\n",
       "    }\n",
       "\n",
       "    .dataframe tbody tr th {\n",
       "        vertical-align: top;\n",
       "    }\n",
       "\n",
       "    .dataframe thead th {\n",
       "        text-align: right;\n",
       "    }\n",
       "</style>\n",
       "<table border=\"1\" class=\"dataframe\">\n",
       "  <thead>\n",
       "    <tr style=\"text-align: right;\">\n",
       "      <th></th>\n",
       "      <th>PassengerId</th>\n",
       "      <th>Survived</th>\n",
       "      <th>Pclass</th>\n",
       "      <th>Name</th>\n",
       "      <th>Sex</th>\n",
       "      <th>Age</th>\n",
       "      <th>SibSp</th>\n",
       "      <th>Parch</th>\n",
       "      <th>Ticket</th>\n",
       "      <th>Fare</th>\n",
       "      <th>Cabin</th>\n",
       "      <th>Embarked</th>\n",
       "    </tr>\n",
       "  </thead>\n",
       "  <tbody>\n",
       "    <tr>\n",
       "      <th>0</th>\n",
       "      <td>1</td>\n",
       "      <td>0</td>\n",
       "      <td>3</td>\n",
       "      <td>Braund, Mr. Owen Harris</td>\n",
       "      <td>male</td>\n",
       "      <td>22.0</td>\n",
       "      <td>1</td>\n",
       "      <td>0</td>\n",
       "      <td>A/5 21171</td>\n",
       "      <td>7.2500</td>\n",
       "      <td>NaN</td>\n",
       "      <td>S</td>\n",
       "    </tr>\n",
       "    <tr>\n",
       "      <th>1</th>\n",
       "      <td>2</td>\n",
       "      <td>1</td>\n",
       "      <td>1</td>\n",
       "      <td>Cumings, Mrs. John Bradley (Florence Briggs Th...</td>\n",
       "      <td>female</td>\n",
       "      <td>38.0</td>\n",
       "      <td>1</td>\n",
       "      <td>0</td>\n",
       "      <td>PC 17599</td>\n",
       "      <td>71.2833</td>\n",
       "      <td>C85</td>\n",
       "      <td>C</td>\n",
       "    </tr>\n",
       "    <tr>\n",
       "      <th>2</th>\n",
       "      <td>3</td>\n",
       "      <td>1</td>\n",
       "      <td>3</td>\n",
       "      <td>Heikkinen, Miss. Laina</td>\n",
       "      <td>female</td>\n",
       "      <td>26.0</td>\n",
       "      <td>0</td>\n",
       "      <td>0</td>\n",
       "      <td>STON/O2. 3101282</td>\n",
       "      <td>7.9250</td>\n",
       "      <td>NaN</td>\n",
       "      <td>S</td>\n",
       "    </tr>\n",
       "    <tr>\n",
       "      <th>3</th>\n",
       "      <td>4</td>\n",
       "      <td>1</td>\n",
       "      <td>1</td>\n",
       "      <td>Futrelle, Mrs. Jacques Heath (Lily May Peel)</td>\n",
       "      <td>female</td>\n",
       "      <td>35.0</td>\n",
       "      <td>1</td>\n",
       "      <td>0</td>\n",
       "      <td>113803</td>\n",
       "      <td>53.1000</td>\n",
       "      <td>C123</td>\n",
       "      <td>S</td>\n",
       "    </tr>\n",
       "    <tr>\n",
       "      <th>4</th>\n",
       "      <td>5</td>\n",
       "      <td>0</td>\n",
       "      <td>3</td>\n",
       "      <td>Allen, Mr. William Henry</td>\n",
       "      <td>male</td>\n",
       "      <td>35.0</td>\n",
       "      <td>0</td>\n",
       "      <td>0</td>\n",
       "      <td>373450</td>\n",
       "      <td>8.0500</td>\n",
       "      <td>NaN</td>\n",
       "      <td>S</td>\n",
       "    </tr>\n",
       "  </tbody>\n",
       "</table>\n",
       "</div>"
      ],
      "text/plain": [
       "   PassengerId  Survived  Pclass  \\\n",
       "0            1         0       3   \n",
       "1            2         1       1   \n",
       "2            3         1       3   \n",
       "3            4         1       1   \n",
       "4            5         0       3   \n",
       "\n",
       "                                                Name     Sex   Age  SibSp  \\\n",
       "0                            Braund, Mr. Owen Harris    male  22.0      1   \n",
       "1  Cumings, Mrs. John Bradley (Florence Briggs Th...  female  38.0      1   \n",
       "2                             Heikkinen, Miss. Laina  female  26.0      0   \n",
       "3       Futrelle, Mrs. Jacques Heath (Lily May Peel)  female  35.0      1   \n",
       "4                           Allen, Mr. William Henry    male  35.0      0   \n",
       "\n",
       "   Parch            Ticket     Fare Cabin Embarked  \n",
       "0      0         A/5 21171   7.2500   NaN        S  \n",
       "1      0          PC 17599  71.2833   C85        C  \n",
       "2      0  STON/O2. 3101282   7.9250   NaN        S  \n",
       "3      0            113803  53.1000  C123        S  \n",
       "4      0            373450   8.0500   NaN        S  "
      ]
     },
     "execution_count": 119,
     "metadata": {},
     "output_type": "execute_result"
    }
   ],
   "source": [
    "df=pd.read_csv(\"titanic.csv\")\n",
    "df.head()\n",
    "\n",
    " "
   ]
  },
  {
   "cell_type": "code",
   "execution_count": 22,
   "id": "f1e8ec30",
   "metadata": {},
   "outputs": [
    {
     "name": "stdout",
     "output_type": "stream",
     "text": [
      "(891, 12)\n"
     ]
    }
   ],
   "source": [
    "print(df.shape)"
   ]
  },
  {
   "cell_type": "code",
   "execution_count": 23,
   "id": "888f8aec",
   "metadata": {
    "scrolled": true
   },
   "outputs": [
    {
     "data": {
      "text/html": [
       "<div>\n",
       "<style scoped>\n",
       "    .dataframe tbody tr th:only-of-type {\n",
       "        vertical-align: middle;\n",
       "    }\n",
       "\n",
       "    .dataframe tbody tr th {\n",
       "        vertical-align: top;\n",
       "    }\n",
       "\n",
       "    .dataframe thead th {\n",
       "        text-align: right;\n",
       "    }\n",
       "</style>\n",
       "<table border=\"1\" class=\"dataframe\">\n",
       "  <thead>\n",
       "    <tr style=\"text-align: right;\">\n",
       "      <th></th>\n",
       "      <th>Survived</th>\n",
       "      <th>Pclass</th>\n",
       "      <th>Sex</th>\n",
       "      <th>Age</th>\n",
       "      <th>SibSp</th>\n",
       "      <th>Parch</th>\n",
       "      <th>Fare</th>\n",
       "      <th>Embarked</th>\n",
       "    </tr>\n",
       "  </thead>\n",
       "  <tbody>\n",
       "    <tr>\n",
       "      <th>0</th>\n",
       "      <td>0</td>\n",
       "      <td>3</td>\n",
       "      <td>male</td>\n",
       "      <td>22.0</td>\n",
       "      <td>1</td>\n",
       "      <td>0</td>\n",
       "      <td>7.2500</td>\n",
       "      <td>S</td>\n",
       "    </tr>\n",
       "    <tr>\n",
       "      <th>1</th>\n",
       "      <td>1</td>\n",
       "      <td>1</td>\n",
       "      <td>female</td>\n",
       "      <td>38.0</td>\n",
       "      <td>1</td>\n",
       "      <td>0</td>\n",
       "      <td>71.2833</td>\n",
       "      <td>C</td>\n",
       "    </tr>\n",
       "    <tr>\n",
       "      <th>2</th>\n",
       "      <td>1</td>\n",
       "      <td>3</td>\n",
       "      <td>female</td>\n",
       "      <td>26.0</td>\n",
       "      <td>0</td>\n",
       "      <td>0</td>\n",
       "      <td>7.9250</td>\n",
       "      <td>S</td>\n",
       "    </tr>\n",
       "    <tr>\n",
       "      <th>3</th>\n",
       "      <td>1</td>\n",
       "      <td>1</td>\n",
       "      <td>female</td>\n",
       "      <td>35.0</td>\n",
       "      <td>1</td>\n",
       "      <td>0</td>\n",
       "      <td>53.1000</td>\n",
       "      <td>S</td>\n",
       "    </tr>\n",
       "    <tr>\n",
       "      <th>4</th>\n",
       "      <td>0</td>\n",
       "      <td>3</td>\n",
       "      <td>male</td>\n",
       "      <td>35.0</td>\n",
       "      <td>0</td>\n",
       "      <td>0</td>\n",
       "      <td>8.0500</td>\n",
       "      <td>S</td>\n",
       "    </tr>\n",
       "  </tbody>\n",
       "</table>\n",
       "</div>"
      ],
      "text/plain": [
       "   Survived  Pclass     Sex   Age  SibSp  Parch     Fare Embarked\n",
       "0         0       3    male  22.0      1      0   7.2500        S\n",
       "1         1       1  female  38.0      1      0  71.2833        C\n",
       "2         1       3  female  26.0      0      0   7.9250        S\n",
       "3         1       1  female  35.0      1      0  53.1000        S\n",
       "4         0       3    male  35.0      0      0   8.0500        S"
      ]
     },
     "execution_count": 23,
     "metadata": {},
     "output_type": "execute_result"
    }
   ],
   "source": [
    "#dropping unnecessary features\n",
    "df=df.drop([\"PassengerId\",\"Name\",\"Ticket\",\"Cabin\"],axis = 1)\n",
    "df.head()"
   ]
  },
  {
   "cell_type": "code",
   "execution_count": 25,
   "id": "943a4168",
   "metadata": {
    "scrolled": true
   },
   "outputs": [
    {
     "data": {
      "text/plain": [
       "Survived      0\n",
       "Pclass        0\n",
       "Sex           0\n",
       "Age         177\n",
       "SibSp         0\n",
       "Parch         0\n",
       "Fare          0\n",
       "Embarked      2\n",
       "dtype: int64"
      ]
     },
     "execution_count": 25,
     "metadata": {},
     "output_type": "execute_result"
    }
   ],
   "source": [
    "#checking and handling missing values\n",
    "df.isnull().sum()"
   ]
  },
  {
   "cell_type": "code",
   "execution_count": 26,
   "id": "321350fd",
   "metadata": {},
   "outputs": [],
   "source": [
    "#for age columns:\n",
    "df=df.interpolate(method='nearest')"
   ]
  },
  {
   "cell_type": "code",
   "execution_count": 27,
   "id": "9ef431d9",
   "metadata": {},
   "outputs": [
    {
     "data": {
      "text/plain": [
       "Survived    0\n",
       "Pclass      0\n",
       "Sex         0\n",
       "Age         0\n",
       "SibSp       0\n",
       "Parch       0\n",
       "Fare        0\n",
       "Embarked    2\n",
       "dtype: int64"
      ]
     },
     "execution_count": 27,
     "metadata": {},
     "output_type": "execute_result"
    }
   ],
   "source": [
    "df.isnull().sum()"
   ]
  },
  {
   "cell_type": "code",
   "execution_count": 28,
   "id": "a1199f0b",
   "metadata": {},
   "outputs": [],
   "source": [
    "#for categorical column (Embarked)\n",
    "df[\"Embarked\"]=df[\"Embarked\"].fillna(df[\"Embarked\"].mode()[0])"
   ]
  },
  {
   "cell_type": "code",
   "execution_count": 29,
   "id": "023cb669",
   "metadata": {},
   "outputs": [
    {
     "data": {
      "text/plain": [
       "Survived    0\n",
       "Pclass      0\n",
       "Sex         0\n",
       "Age         0\n",
       "SibSp       0\n",
       "Parch       0\n",
       "Fare        0\n",
       "Embarked    0\n",
       "dtype: int64"
      ]
     },
     "execution_count": 29,
     "metadata": {},
     "output_type": "execute_result"
    }
   ],
   "source": [
    "df.isnull().sum()"
   ]
  },
  {
   "cell_type": "code",
   "execution_count": 30,
   "id": "e32ec91f",
   "metadata": {},
   "outputs": [
    {
     "data": {
      "text/html": [
       "<div>\n",
       "<style scoped>\n",
       "    .dataframe tbody tr th:only-of-type {\n",
       "        vertical-align: middle;\n",
       "    }\n",
       "\n",
       "    .dataframe tbody tr th {\n",
       "        vertical-align: top;\n",
       "    }\n",
       "\n",
       "    .dataframe thead th {\n",
       "        text-align: right;\n",
       "    }\n",
       "</style>\n",
       "<table border=\"1\" class=\"dataframe\">\n",
       "  <thead>\n",
       "    <tr style=\"text-align: right;\">\n",
       "      <th></th>\n",
       "      <th>Survived</th>\n",
       "      <th>Pclass</th>\n",
       "      <th>Age</th>\n",
       "      <th>SibSp</th>\n",
       "      <th>Parch</th>\n",
       "      <th>Fare</th>\n",
       "      <th>Sex_male</th>\n",
       "      <th>Embarked_Q</th>\n",
       "      <th>Embarked_S</th>\n",
       "    </tr>\n",
       "  </thead>\n",
       "  <tbody>\n",
       "    <tr>\n",
       "      <th>0</th>\n",
       "      <td>0</td>\n",
       "      <td>3</td>\n",
       "      <td>22.0</td>\n",
       "      <td>1</td>\n",
       "      <td>0</td>\n",
       "      <td>7.2500</td>\n",
       "      <td>1</td>\n",
       "      <td>0</td>\n",
       "      <td>1</td>\n",
       "    </tr>\n",
       "    <tr>\n",
       "      <th>1</th>\n",
       "      <td>1</td>\n",
       "      <td>1</td>\n",
       "      <td>38.0</td>\n",
       "      <td>1</td>\n",
       "      <td>0</td>\n",
       "      <td>71.2833</td>\n",
       "      <td>0</td>\n",
       "      <td>0</td>\n",
       "      <td>0</td>\n",
       "    </tr>\n",
       "    <tr>\n",
       "      <th>2</th>\n",
       "      <td>1</td>\n",
       "      <td>3</td>\n",
       "      <td>26.0</td>\n",
       "      <td>0</td>\n",
       "      <td>0</td>\n",
       "      <td>7.9250</td>\n",
       "      <td>0</td>\n",
       "      <td>0</td>\n",
       "      <td>1</td>\n",
       "    </tr>\n",
       "    <tr>\n",
       "      <th>3</th>\n",
       "      <td>1</td>\n",
       "      <td>1</td>\n",
       "      <td>35.0</td>\n",
       "      <td>1</td>\n",
       "      <td>0</td>\n",
       "      <td>53.1000</td>\n",
       "      <td>0</td>\n",
       "      <td>0</td>\n",
       "      <td>1</td>\n",
       "    </tr>\n",
       "    <tr>\n",
       "      <th>4</th>\n",
       "      <td>0</td>\n",
       "      <td>3</td>\n",
       "      <td>35.0</td>\n",
       "      <td>0</td>\n",
       "      <td>0</td>\n",
       "      <td>8.0500</td>\n",
       "      <td>1</td>\n",
       "      <td>0</td>\n",
       "      <td>1</td>\n",
       "    </tr>\n",
       "    <tr>\n",
       "      <th>...</th>\n",
       "      <td>...</td>\n",
       "      <td>...</td>\n",
       "      <td>...</td>\n",
       "      <td>...</td>\n",
       "      <td>...</td>\n",
       "      <td>...</td>\n",
       "      <td>...</td>\n",
       "      <td>...</td>\n",
       "      <td>...</td>\n",
       "    </tr>\n",
       "    <tr>\n",
       "      <th>886</th>\n",
       "      <td>0</td>\n",
       "      <td>2</td>\n",
       "      <td>27.0</td>\n",
       "      <td>0</td>\n",
       "      <td>0</td>\n",
       "      <td>13.0000</td>\n",
       "      <td>1</td>\n",
       "      <td>0</td>\n",
       "      <td>1</td>\n",
       "    </tr>\n",
       "    <tr>\n",
       "      <th>887</th>\n",
       "      <td>1</td>\n",
       "      <td>1</td>\n",
       "      <td>19.0</td>\n",
       "      <td>0</td>\n",
       "      <td>0</td>\n",
       "      <td>30.0000</td>\n",
       "      <td>0</td>\n",
       "      <td>0</td>\n",
       "      <td>1</td>\n",
       "    </tr>\n",
       "    <tr>\n",
       "      <th>888</th>\n",
       "      <td>0</td>\n",
       "      <td>3</td>\n",
       "      <td>19.0</td>\n",
       "      <td>1</td>\n",
       "      <td>2</td>\n",
       "      <td>23.4500</td>\n",
       "      <td>0</td>\n",
       "      <td>0</td>\n",
       "      <td>1</td>\n",
       "    </tr>\n",
       "    <tr>\n",
       "      <th>889</th>\n",
       "      <td>1</td>\n",
       "      <td>1</td>\n",
       "      <td>26.0</td>\n",
       "      <td>0</td>\n",
       "      <td>0</td>\n",
       "      <td>30.0000</td>\n",
       "      <td>1</td>\n",
       "      <td>0</td>\n",
       "      <td>0</td>\n",
       "    </tr>\n",
       "    <tr>\n",
       "      <th>890</th>\n",
       "      <td>0</td>\n",
       "      <td>3</td>\n",
       "      <td>32.0</td>\n",
       "      <td>0</td>\n",
       "      <td>0</td>\n",
       "      <td>7.7500</td>\n",
       "      <td>1</td>\n",
       "      <td>1</td>\n",
       "      <td>0</td>\n",
       "    </tr>\n",
       "  </tbody>\n",
       "</table>\n",
       "<p>891 rows × 9 columns</p>\n",
       "</div>"
      ],
      "text/plain": [
       "     Survived  Pclass   Age  SibSp  Parch     Fare  Sex_male  Embarked_Q  \\\n",
       "0           0       3  22.0      1      0   7.2500         1           0   \n",
       "1           1       1  38.0      1      0  71.2833         0           0   \n",
       "2           1       3  26.0      0      0   7.9250         0           0   \n",
       "3           1       1  35.0      1      0  53.1000         0           0   \n",
       "4           0       3  35.0      0      0   8.0500         1           0   \n",
       "..        ...     ...   ...    ...    ...      ...       ...         ...   \n",
       "886         0       2  27.0      0      0  13.0000         1           0   \n",
       "887         1       1  19.0      0      0  30.0000         0           0   \n",
       "888         0       3  19.0      1      2  23.4500         0           0   \n",
       "889         1       1  26.0      0      0  30.0000         1           0   \n",
       "890         0       3  32.0      0      0   7.7500         1           1   \n",
       "\n",
       "     Embarked_S  \n",
       "0             1  \n",
       "1             0  \n",
       "2             1  \n",
       "3             1  \n",
       "4             1  \n",
       "..          ...  \n",
       "886           1  \n",
       "887           1  \n",
       "888           1  \n",
       "889           0  \n",
       "890           0  \n",
       "\n",
       "[891 rows x 9 columns]"
      ]
     },
     "execution_count": 30,
     "metadata": {},
     "output_type": "execute_result"
    }
   ],
   "source": [
    "#changing categorical columns (sex,embarked)\n",
    "df = pd.get_dummies(df,drop_first = True)\n",
    "df"
   ]
  },
  {
   "cell_type": "code",
   "execution_count": 31,
   "id": "9edd74b2",
   "metadata": {},
   "outputs": [],
   "source": [
    "#features and labels\n",
    "X= df.iloc[:, 1:]\n",
    "Y= df.iloc[:, 0]"
   ]
  },
  {
   "cell_type": "code",
   "execution_count": 32,
   "id": "38d4f827",
   "metadata": {},
   "outputs": [
    {
     "data": {
      "text/html": [
       "<div>\n",
       "<style scoped>\n",
       "    .dataframe tbody tr th:only-of-type {\n",
       "        vertical-align: middle;\n",
       "    }\n",
       "\n",
       "    .dataframe tbody tr th {\n",
       "        vertical-align: top;\n",
       "    }\n",
       "\n",
       "    .dataframe thead th {\n",
       "        text-align: right;\n",
       "    }\n",
       "</style>\n",
       "<table border=\"1\" class=\"dataframe\">\n",
       "  <thead>\n",
       "    <tr style=\"text-align: right;\">\n",
       "      <th></th>\n",
       "      <th>Pclass</th>\n",
       "      <th>Age</th>\n",
       "      <th>SibSp</th>\n",
       "      <th>Parch</th>\n",
       "      <th>Fare</th>\n",
       "      <th>Sex_male</th>\n",
       "      <th>Embarked_Q</th>\n",
       "      <th>Embarked_S</th>\n",
       "    </tr>\n",
       "  </thead>\n",
       "  <tbody>\n",
       "    <tr>\n",
       "      <th>0</th>\n",
       "      <td>3</td>\n",
       "      <td>22.0</td>\n",
       "      <td>1</td>\n",
       "      <td>0</td>\n",
       "      <td>7.2500</td>\n",
       "      <td>1</td>\n",
       "      <td>0</td>\n",
       "      <td>1</td>\n",
       "    </tr>\n",
       "    <tr>\n",
       "      <th>1</th>\n",
       "      <td>1</td>\n",
       "      <td>38.0</td>\n",
       "      <td>1</td>\n",
       "      <td>0</td>\n",
       "      <td>71.2833</td>\n",
       "      <td>0</td>\n",
       "      <td>0</td>\n",
       "      <td>0</td>\n",
       "    </tr>\n",
       "    <tr>\n",
       "      <th>2</th>\n",
       "      <td>3</td>\n",
       "      <td>26.0</td>\n",
       "      <td>0</td>\n",
       "      <td>0</td>\n",
       "      <td>7.9250</td>\n",
       "      <td>0</td>\n",
       "      <td>0</td>\n",
       "      <td>1</td>\n",
       "    </tr>\n",
       "    <tr>\n",
       "      <th>3</th>\n",
       "      <td>1</td>\n",
       "      <td>35.0</td>\n",
       "      <td>1</td>\n",
       "      <td>0</td>\n",
       "      <td>53.1000</td>\n",
       "      <td>0</td>\n",
       "      <td>0</td>\n",
       "      <td>1</td>\n",
       "    </tr>\n",
       "    <tr>\n",
       "      <th>4</th>\n",
       "      <td>3</td>\n",
       "      <td>35.0</td>\n",
       "      <td>0</td>\n",
       "      <td>0</td>\n",
       "      <td>8.0500</td>\n",
       "      <td>1</td>\n",
       "      <td>0</td>\n",
       "      <td>1</td>\n",
       "    </tr>\n",
       "  </tbody>\n",
       "</table>\n",
       "</div>"
      ],
      "text/plain": [
       "   Pclass   Age  SibSp  Parch     Fare  Sex_male  Embarked_Q  Embarked_S\n",
       "0       3  22.0      1      0   7.2500         1           0           1\n",
       "1       1  38.0      1      0  71.2833         0           0           0\n",
       "2       3  26.0      0      0   7.9250         0           0           1\n",
       "3       1  35.0      1      0  53.1000         0           0           1\n",
       "4       3  35.0      0      0   8.0500         1           0           1"
      ]
     },
     "execution_count": 32,
     "metadata": {},
     "output_type": "execute_result"
    }
   ],
   "source": [
    "X.head()"
   ]
  },
  {
   "cell_type": "code",
   "execution_count": 33,
   "id": "146e8610",
   "metadata": {},
   "outputs": [
    {
     "data": {
      "text/plain": [
       "0    0\n",
       "1    1\n",
       "2    1\n",
       "3    1\n",
       "4    0\n",
       "Name: Survived, dtype: int64"
      ]
     },
     "execution_count": 33,
     "metadata": {},
     "output_type": "execute_result"
    }
   ],
   "source": [
    "Y.head()"
   ]
  },
  {
   "cell_type": "code",
   "execution_count": 59,
   "id": "20c05f8d",
   "metadata": {},
   "outputs": [],
   "source": [
    "X_train,X_test,Y_train,Y_test =train_test_split(X,Y,test_size=0.2,random_state=0)"
   ]
  },
  {
   "cell_type": "code",
   "execution_count": 35,
   "id": "6397f4c5",
   "metadata": {
    "scrolled": true
   },
   "outputs": [
    {
     "name": "stdout",
     "output_type": "stream",
     "text": [
      "(179, 8)\n",
      "(179,)\n"
     ]
    }
   ],
   "source": [
    "print(X_test.shape)\n",
    "print(Y_test.shape)"
   ]
  },
  {
   "cell_type": "code",
   "execution_count": 36,
   "id": "6f4fc52c",
   "metadata": {},
   "outputs": [
    {
     "data": {
      "text/html": [
       "<div>\n",
       "<style scoped>\n",
       "    .dataframe tbody tr th:only-of-type {\n",
       "        vertical-align: middle;\n",
       "    }\n",
       "\n",
       "    .dataframe tbody tr th {\n",
       "        vertical-align: top;\n",
       "    }\n",
       "\n",
       "    .dataframe thead th {\n",
       "        text-align: right;\n",
       "    }\n",
       "</style>\n",
       "<table border=\"1\" class=\"dataframe\">\n",
       "  <thead>\n",
       "    <tr style=\"text-align: right;\">\n",
       "      <th></th>\n",
       "      <th>Pclass</th>\n",
       "      <th>Age</th>\n",
       "      <th>SibSp</th>\n",
       "      <th>Parch</th>\n",
       "      <th>Fare</th>\n",
       "      <th>Sex_male</th>\n",
       "      <th>Embarked_Q</th>\n",
       "      <th>Embarked_S</th>\n",
       "    </tr>\n",
       "  </thead>\n",
       "  <tbody>\n",
       "    <tr>\n",
       "      <th>140</th>\n",
       "      <td>3</td>\n",
       "      <td>24.0</td>\n",
       "      <td>0</td>\n",
       "      <td>2</td>\n",
       "      <td>15.2458</td>\n",
       "      <td>0</td>\n",
       "      <td>0</td>\n",
       "      <td>0</td>\n",
       "    </tr>\n",
       "    <tr>\n",
       "      <th>439</th>\n",
       "      <td>2</td>\n",
       "      <td>31.0</td>\n",
       "      <td>0</td>\n",
       "      <td>0</td>\n",
       "      <td>10.5000</td>\n",
       "      <td>1</td>\n",
       "      <td>0</td>\n",
       "      <td>1</td>\n",
       "    </tr>\n",
       "    <tr>\n",
       "      <th>817</th>\n",
       "      <td>2</td>\n",
       "      <td>31.0</td>\n",
       "      <td>1</td>\n",
       "      <td>1</td>\n",
       "      <td>37.0042</td>\n",
       "      <td>1</td>\n",
       "      <td>0</td>\n",
       "      <td>0</td>\n",
       "    </tr>\n",
       "    <tr>\n",
       "      <th>378</th>\n",
       "      <td>3</td>\n",
       "      <td>20.0</td>\n",
       "      <td>0</td>\n",
       "      <td>0</td>\n",
       "      <td>4.0125</td>\n",
       "      <td>1</td>\n",
       "      <td>0</td>\n",
       "      <td>0</td>\n",
       "    </tr>\n",
       "    <tr>\n",
       "      <th>491</th>\n",
       "      <td>3</td>\n",
       "      <td>21.0</td>\n",
       "      <td>0</td>\n",
       "      <td>0</td>\n",
       "      <td>7.2500</td>\n",
       "      <td>1</td>\n",
       "      <td>0</td>\n",
       "      <td>1</td>\n",
       "    </tr>\n",
       "  </tbody>\n",
       "</table>\n",
       "</div>"
      ],
      "text/plain": [
       "     Pclass   Age  SibSp  Parch     Fare  Sex_male  Embarked_Q  Embarked_S\n",
       "140       3  24.0      0      2  15.2458         0           0           0\n",
       "439       2  31.0      0      0  10.5000         1           0           1\n",
       "817       2  31.0      1      1  37.0042         1           0           0\n",
       "378       3  20.0      0      0   4.0125         1           0           0\n",
       "491       3  21.0      0      0   7.2500         1           0           1"
      ]
     },
     "execution_count": 36,
     "metadata": {},
     "output_type": "execute_result"
    }
   ],
   "source": [
    "X_train.head()"
   ]
  },
  {
   "cell_type": "code",
   "execution_count": 37,
   "id": "64dd9be1",
   "metadata": {},
   "outputs": [
    {
     "data": {
      "text/html": [
       "<div>\n",
       "<style scoped>\n",
       "    .dataframe tbody tr th:only-of-type {\n",
       "        vertical-align: middle;\n",
       "    }\n",
       "\n",
       "    .dataframe tbody tr th {\n",
       "        vertical-align: top;\n",
       "    }\n",
       "\n",
       "    .dataframe thead th {\n",
       "        text-align: right;\n",
       "    }\n",
       "</style>\n",
       "<table border=\"1\" class=\"dataframe\">\n",
       "  <thead>\n",
       "    <tr style=\"text-align: right;\">\n",
       "      <th></th>\n",
       "      <th>Pclass</th>\n",
       "      <th>Age</th>\n",
       "      <th>SibSp</th>\n",
       "      <th>Parch</th>\n",
       "      <th>Fare</th>\n",
       "      <th>Sex_male</th>\n",
       "      <th>Embarked_Q</th>\n",
       "      <th>Embarked_S</th>\n",
       "    </tr>\n",
       "  </thead>\n",
       "  <tbody>\n",
       "    <tr>\n",
       "      <th>495</th>\n",
       "      <td>3</td>\n",
       "      <td>21.0</td>\n",
       "      <td>0</td>\n",
       "      <td>0</td>\n",
       "      <td>14.4583</td>\n",
       "      <td>1</td>\n",
       "      <td>0</td>\n",
       "      <td>0</td>\n",
       "    </tr>\n",
       "    <tr>\n",
       "      <th>648</th>\n",
       "      <td>3</td>\n",
       "      <td>56.0</td>\n",
       "      <td>0</td>\n",
       "      <td>0</td>\n",
       "      <td>7.5500</td>\n",
       "      <td>1</td>\n",
       "      <td>0</td>\n",
       "      <td>1</td>\n",
       "    </tr>\n",
       "    <tr>\n",
       "      <th>278</th>\n",
       "      <td>3</td>\n",
       "      <td>7.0</td>\n",
       "      <td>4</td>\n",
       "      <td>1</td>\n",
       "      <td>29.1250</td>\n",
       "      <td>1</td>\n",
       "      <td>1</td>\n",
       "      <td>0</td>\n",
       "    </tr>\n",
       "    <tr>\n",
       "      <th>31</th>\n",
       "      <td>1</td>\n",
       "      <td>40.0</td>\n",
       "      <td>1</td>\n",
       "      <td>0</td>\n",
       "      <td>146.5208</td>\n",
       "      <td>0</td>\n",
       "      <td>0</td>\n",
       "      <td>0</td>\n",
       "    </tr>\n",
       "    <tr>\n",
       "      <th>255</th>\n",
       "      <td>3</td>\n",
       "      <td>29.0</td>\n",
       "      <td>0</td>\n",
       "      <td>2</td>\n",
       "      <td>15.2458</td>\n",
       "      <td>0</td>\n",
       "      <td>0</td>\n",
       "      <td>0</td>\n",
       "    </tr>\n",
       "  </tbody>\n",
       "</table>\n",
       "</div>"
      ],
      "text/plain": [
       "     Pclass   Age  SibSp  Parch      Fare  Sex_male  Embarked_Q  Embarked_S\n",
       "495       3  21.0      0      0   14.4583         1           0           0\n",
       "648       3  56.0      0      0    7.5500         1           0           1\n",
       "278       3   7.0      4      1   29.1250         1           1           0\n",
       "31        1  40.0      1      0  146.5208         0           0           0\n",
       "255       3  29.0      0      2   15.2458         0           0           0"
      ]
     },
     "execution_count": 37,
     "metadata": {},
     "output_type": "execute_result"
    }
   ],
   "source": [
    "X_test.head()"
   ]
  },
  {
   "cell_type": "code",
   "execution_count": 38,
   "id": "a94613bd",
   "metadata": {},
   "outputs": [
    {
     "data": {
      "text/plain": [
       "495    0\n",
       "648    0\n",
       "278    0\n",
       "31     1\n",
       "255    1\n",
       "Name: Survived, dtype: int64"
      ]
     },
     "execution_count": 38,
     "metadata": {},
     "output_type": "execute_result"
    }
   ],
   "source": [
    "Y_test.head()"
   ]
  },
  {
   "cell_type": "code",
   "execution_count": 39,
   "id": "69046dfc",
   "metadata": {},
   "outputs": [
    {
     "name": "stdout",
     "output_type": "stream",
     "text": [
      "(712, 8)\n",
      "(712,)\n"
     ]
    }
   ],
   "source": [
    "print(X_train.shape)\n",
    "print(Y_train.shape)"
   ]
  },
  {
   "cell_type": "markdown",
   "id": "d9083d71",
   "metadata": {},
   "source": [
    "## building the ANN"
   ]
  },
  {
   "cell_type": "code",
   "execution_count": 76,
   "id": "33d9cc2d",
   "metadata": {},
   "outputs": [],
   "source": [
    "#building ANN using keras\n",
    "import keras\n",
    "import tensorflow as tf\n",
    "from keras.models import Sequential\n",
    "from keras.layers import Dense\n",
    "from keras.layers import Dropout\n",
    "from scikeras.wrappers import KerasClassifier"
   ]
  },
  {
   "cell_type": "code",
   "execution_count": 94,
   "id": "cf6445f4",
   "metadata": {},
   "outputs": [],
   "source": [
    "# Initialize our ANN model\n",
    "kerasmodel = Sequential()\n",
    "    \n",
    "    # Add the input layer and first hidden layer with Dropout\n",
    "kerasmodel.add(Dense(32, kernel_initializer = 'uniform', activation = 'relu' , input_dim = 8))\n",
    "kerasmodel.add(Dropout(rate = 0.1))\n",
    "    \n",
    "    # Adding the Second Hidden layer with Dropout\n",
    "kerasmodel.add(Dense(64, kernel_initializer= 'uniform', activation = 'relu'))\n",
    "kerasmodel.add(Dropout(rate = 0.1))\n",
    "    \n",
    "    # Adding the output layer\n",
    "kerasmodel.add(Dense(1, kernel_initializer= 'uniform', activation = 'sigmoid'))\n",
    "    \n",
    "    # Compiling the ANN\n",
    "kerasmodel.compile(optimizer= 'adam', loss = 'binary_crossentropy', metrics = ['accuracy'])\n"
   ]
  },
  {
   "cell_type": "code",
   "execution_count": 95,
   "id": "587767d2",
   "metadata": {},
   "outputs": [],
   "source": [
    "kerasmodel.compile(optimizer='adam',loss='binary_crossentropy',metrics=['accuracy'])\n"
   ]
  },
  {
   "cell_type": "code",
   "execution_count": 96,
   "id": "0c57c96d",
   "metadata": {},
   "outputs": [
    {
     "name": "stdout",
     "output_type": "stream",
     "text": [
      "Epoch 1/150\n",
      "72/72 [==============================] - 0s 1ms/step - loss: 0.6595 - accuracy: 0.6475 - val_loss: 0.6005 - val_accuracy: 0.7095\n",
      "Epoch 2/150\n",
      "72/72 [==============================] - 0s 633us/step - loss: 0.6202 - accuracy: 0.6699 - val_loss: 0.5981 - val_accuracy: 0.7263\n",
      "Epoch 3/150\n",
      "72/72 [==============================] - 0s 590us/step - loss: 0.6055 - accuracy: 0.6910 - val_loss: 0.5631 - val_accuracy: 0.7709\n",
      "Epoch 4/150\n",
      "72/72 [==============================] - 0s 654us/step - loss: 0.5916 - accuracy: 0.6924 - val_loss: 0.5403 - val_accuracy: 0.7654\n",
      "Epoch 5/150\n",
      "72/72 [==============================] - 0s 585us/step - loss: 0.5730 - accuracy: 0.6882 - val_loss: 0.5229 - val_accuracy: 0.7709\n",
      "Epoch 6/150\n",
      "72/72 [==============================] - 0s 598us/step - loss: 0.5434 - accuracy: 0.7163 - val_loss: 0.4930 - val_accuracy: 0.7933\n",
      "Epoch 7/150\n",
      "72/72 [==============================] - 0s 591us/step - loss: 0.5395 - accuracy: 0.7486 - val_loss: 0.4825 - val_accuracy: 0.7542\n",
      "Epoch 8/150\n",
      "72/72 [==============================] - 0s 563us/step - loss: 0.5320 - accuracy: 0.7303 - val_loss: 0.4669 - val_accuracy: 0.7989\n",
      "Epoch 9/150\n",
      "72/72 [==============================] - 0s 577us/step - loss: 0.5146 - accuracy: 0.7584 - val_loss: 0.4418 - val_accuracy: 0.7933\n",
      "Epoch 10/150\n",
      "72/72 [==============================] - 0s 575us/step - loss: 0.5105 - accuracy: 0.7683 - val_loss: 0.4508 - val_accuracy: 0.7933\n",
      "Epoch 11/150\n",
      "72/72 [==============================] - 0s 584us/step - loss: 0.5074 - accuracy: 0.7795 - val_loss: 0.4600 - val_accuracy: 0.7709\n",
      "Epoch 12/150\n",
      "72/72 [==============================] - 0s 561us/step - loss: 0.4947 - accuracy: 0.7865 - val_loss: 0.4580 - val_accuracy: 0.7933\n",
      "Epoch 13/150\n",
      "72/72 [==============================] - 0s 575us/step - loss: 0.4939 - accuracy: 0.7851 - val_loss: 0.4811 - val_accuracy: 0.8101\n",
      "Epoch 14/150\n",
      "72/72 [==============================] - 0s 586us/step - loss: 0.4862 - accuracy: 0.7795 - val_loss: 0.4472 - val_accuracy: 0.7989\n",
      "Epoch 15/150\n",
      "72/72 [==============================] - 0s 568us/step - loss: 0.4907 - accuracy: 0.7921 - val_loss: 0.4328 - val_accuracy: 0.8045\n",
      "Epoch 16/150\n",
      "72/72 [==============================] - 0s 581us/step - loss: 0.4875 - accuracy: 0.7935 - val_loss: 0.4233 - val_accuracy: 0.8268\n",
      "Epoch 17/150\n",
      "72/72 [==============================] - 0s 620us/step - loss: 0.4725 - accuracy: 0.7978 - val_loss: 0.4199 - val_accuracy: 0.8156\n",
      "Epoch 18/150\n",
      "72/72 [==============================] - 0s 557us/step - loss: 0.4724 - accuracy: 0.7907 - val_loss: 0.4372 - val_accuracy: 0.8045\n",
      "Epoch 19/150\n",
      "72/72 [==============================] - 0s 611us/step - loss: 0.4651 - accuracy: 0.8062 - val_loss: 0.4785 - val_accuracy: 0.8156\n",
      "Epoch 20/150\n",
      "72/72 [==============================] - 0s 612us/step - loss: 0.4760 - accuracy: 0.8020 - val_loss: 0.4293 - val_accuracy: 0.8156\n",
      "Epoch 21/150\n",
      "72/72 [==============================] - 0s 601us/step - loss: 0.4684 - accuracy: 0.7949 - val_loss: 0.4175 - val_accuracy: 0.8101\n",
      "Epoch 22/150\n",
      "72/72 [==============================] - 0s 595us/step - loss: 0.4528 - accuracy: 0.8048 - val_loss: 0.4282 - val_accuracy: 0.8045\n",
      "Epoch 23/150\n",
      "72/72 [==============================] - 0s 564us/step - loss: 0.4643 - accuracy: 0.8006 - val_loss: 0.4049 - val_accuracy: 0.8101\n",
      "Epoch 24/150\n",
      "72/72 [==============================] - 0s 577us/step - loss: 0.4552 - accuracy: 0.8076 - val_loss: 0.4339 - val_accuracy: 0.8212\n",
      "Epoch 25/150\n",
      "72/72 [==============================] - 0s 588us/step - loss: 0.4503 - accuracy: 0.8118 - val_loss: 0.4216 - val_accuracy: 0.8156\n",
      "Epoch 26/150\n",
      "72/72 [==============================] - 0s 590us/step - loss: 0.4506 - accuracy: 0.8104 - val_loss: 0.4227 - val_accuracy: 0.8101\n",
      "Epoch 27/150\n",
      "72/72 [==============================] - 0s 605us/step - loss: 0.4670 - accuracy: 0.8062 - val_loss: 0.4265 - val_accuracy: 0.8101\n",
      "Epoch 28/150\n",
      "72/72 [==============================] - 0s 609us/step - loss: 0.4485 - accuracy: 0.8118 - val_loss: 0.4082 - val_accuracy: 0.8156\n",
      "Epoch 29/150\n",
      "72/72 [==============================] - 0s 553us/step - loss: 0.4518 - accuracy: 0.8034 - val_loss: 0.4310 - val_accuracy: 0.8101\n",
      "Epoch 30/150\n",
      "72/72 [==============================] - 0s 590us/step - loss: 0.4628 - accuracy: 0.8118 - val_loss: 0.4057 - val_accuracy: 0.8101\n",
      "Epoch 31/150\n",
      "72/72 [==============================] - 0s 587us/step - loss: 0.4522 - accuracy: 0.8090 - val_loss: 0.4226 - val_accuracy: 0.8324\n",
      "Epoch 32/150\n",
      "72/72 [==============================] - 0s 570us/step - loss: 0.4498 - accuracy: 0.8174 - val_loss: 0.4125 - val_accuracy: 0.8156\n",
      "Epoch 33/150\n",
      "72/72 [==============================] - 0s 590us/step - loss: 0.4453 - accuracy: 0.8132 - val_loss: 0.4511 - val_accuracy: 0.8101\n",
      "Epoch 34/150\n",
      "72/72 [==============================] - 0s 563us/step - loss: 0.4449 - accuracy: 0.8104 - val_loss: 0.4124 - val_accuracy: 0.8101\n",
      "Epoch 35/150\n",
      "72/72 [==============================] - 0s 586us/step - loss: 0.4723 - accuracy: 0.7978 - val_loss: 0.4092 - val_accuracy: 0.8101\n",
      "Epoch 36/150\n",
      "72/72 [==============================] - 0s 585us/step - loss: 0.4458 - accuracy: 0.8146 - val_loss: 0.4330 - val_accuracy: 0.8268\n",
      "Epoch 37/150\n",
      "72/72 [==============================] - 0s 608us/step - loss: 0.4410 - accuracy: 0.8188 - val_loss: 0.4074 - val_accuracy: 0.8156\n",
      "Epoch 38/150\n",
      "72/72 [==============================] - 0s 566us/step - loss: 0.4416 - accuracy: 0.8202 - val_loss: 0.4173 - val_accuracy: 0.8156\n",
      "Epoch 39/150\n",
      "72/72 [==============================] - 0s 589us/step - loss: 0.4409 - accuracy: 0.8132 - val_loss: 0.4289 - val_accuracy: 0.7989\n",
      "Epoch 40/150\n",
      "72/72 [==============================] - 0s 570us/step - loss: 0.4438 - accuracy: 0.8104 - val_loss: 0.4579 - val_accuracy: 0.7709\n",
      "Epoch 41/150\n",
      "72/72 [==============================] - 0s 589us/step - loss: 0.4379 - accuracy: 0.8202 - val_loss: 0.4016 - val_accuracy: 0.8045\n",
      "Epoch 42/150\n",
      "72/72 [==============================] - 0s 573us/step - loss: 0.4495 - accuracy: 0.8174 - val_loss: 0.4335 - val_accuracy: 0.8045\n",
      "Epoch 43/150\n",
      "72/72 [==============================] - 0s 581us/step - loss: 0.4453 - accuracy: 0.8118 - val_loss: 0.4199 - val_accuracy: 0.8268\n",
      "Epoch 44/150\n",
      "72/72 [==============================] - 0s 577us/step - loss: 0.4427 - accuracy: 0.8174 - val_loss: 0.3916 - val_accuracy: 0.8156\n",
      "Epoch 45/150\n",
      "72/72 [==============================] - 0s 568us/step - loss: 0.4302 - accuracy: 0.8118 - val_loss: 0.4030 - val_accuracy: 0.8101\n",
      "Epoch 46/150\n",
      "72/72 [==============================] - 0s 582us/step - loss: 0.4459 - accuracy: 0.8090 - val_loss: 0.4106 - val_accuracy: 0.8045\n",
      "Epoch 47/150\n",
      "72/72 [==============================] - 0s 591us/step - loss: 0.4409 - accuracy: 0.8118 - val_loss: 0.3991 - val_accuracy: 0.8101\n",
      "Epoch 48/150\n",
      "72/72 [==============================] - 0s 591us/step - loss: 0.4442 - accuracy: 0.8006 - val_loss: 0.4102 - val_accuracy: 0.8101\n",
      "Epoch 49/150\n",
      "72/72 [==============================] - 0s 681us/step - loss: 0.4267 - accuracy: 0.8244 - val_loss: 0.3936 - val_accuracy: 0.8045\n",
      "Epoch 50/150\n",
      "72/72 [==============================] - 0s 587us/step - loss: 0.4428 - accuracy: 0.8174 - val_loss: 0.4232 - val_accuracy: 0.8156\n",
      "Epoch 51/150\n",
      "72/72 [==============================] - 0s 582us/step - loss: 0.4773 - accuracy: 0.7879 - val_loss: 0.4319 - val_accuracy: 0.7933\n",
      "Epoch 52/150\n",
      "72/72 [==============================] - 0s 577us/step - loss: 0.4425 - accuracy: 0.8146 - val_loss: 0.3997 - val_accuracy: 0.8212\n",
      "Epoch 53/150\n",
      "72/72 [==============================] - 0s 577us/step - loss: 0.4309 - accuracy: 0.8076 - val_loss: 0.4090 - val_accuracy: 0.8324\n",
      "Epoch 54/150\n",
      "72/72 [==============================] - 0s 571us/step - loss: 0.4499 - accuracy: 0.8104 - val_loss: 0.4024 - val_accuracy: 0.8101\n",
      "Epoch 55/150\n",
      "72/72 [==============================] - 0s 577us/step - loss: 0.4346 - accuracy: 0.8160 - val_loss: 0.4089 - val_accuracy: 0.8045\n",
      "Epoch 56/150\n",
      "72/72 [==============================] - 0s 584us/step - loss: 0.4338 - accuracy: 0.8090 - val_loss: 0.3986 - val_accuracy: 0.8156\n",
      "Epoch 57/150\n",
      "72/72 [==============================] - 0s 590us/step - loss: 0.4344 - accuracy: 0.8216 - val_loss: 0.4048 - val_accuracy: 0.8101\n",
      "Epoch 58/150\n",
      "72/72 [==============================] - 0s 579us/step - loss: 0.4279 - accuracy: 0.8216 - val_loss: 0.4063 - val_accuracy: 0.8101\n",
      "Epoch 59/150\n",
      "72/72 [==============================] - 0s 541us/step - loss: 0.4274 - accuracy: 0.8174 - val_loss: 0.3972 - val_accuracy: 0.8101\n",
      "Epoch 60/150\n",
      "72/72 [==============================] - 0s 567us/step - loss: 0.4374 - accuracy: 0.8202 - val_loss: 0.4086 - val_accuracy: 0.8212\n",
      "Epoch 61/150\n",
      "72/72 [==============================] - 0s 559us/step - loss: 0.4316 - accuracy: 0.8188 - val_loss: 0.4229 - val_accuracy: 0.8156\n",
      "Epoch 62/150\n",
      "72/72 [==============================] - 0s 570us/step - loss: 0.4259 - accuracy: 0.8104 - val_loss: 0.4041 - val_accuracy: 0.8156\n",
      "Epoch 63/150\n",
      "72/72 [==============================] - 0s 584us/step - loss: 0.4257 - accuracy: 0.8174 - val_loss: 0.4074 - val_accuracy: 0.8156\n",
      "Epoch 64/150\n",
      "72/72 [==============================] - 0s 564us/step - loss: 0.4217 - accuracy: 0.8329 - val_loss: 0.4072 - val_accuracy: 0.8101\n",
      "Epoch 65/150\n",
      "72/72 [==============================] - 0s 584us/step - loss: 0.4314 - accuracy: 0.8090 - val_loss: 0.4267 - val_accuracy: 0.8045\n",
      "Epoch 66/150\n",
      "72/72 [==============================] - 0s 575us/step - loss: 0.4279 - accuracy: 0.8188 - val_loss: 0.3991 - val_accuracy: 0.8101\n",
      "Epoch 67/150\n",
      "72/72 [==============================] - 0s 581us/step - loss: 0.4255 - accuracy: 0.8174 - val_loss: 0.4052 - val_accuracy: 0.8101\n",
      "Epoch 68/150\n",
      "72/72 [==============================] - 0s 565us/step - loss: 0.4144 - accuracy: 0.8174 - val_loss: 0.4165 - val_accuracy: 0.8212\n",
      "Epoch 69/150\n",
      "72/72 [==============================] - 0s 566us/step - loss: 0.4271 - accuracy: 0.8230 - val_loss: 0.4022 - val_accuracy: 0.8101\n",
      "Epoch 70/150\n",
      "72/72 [==============================] - 0s 566us/step - loss: 0.4217 - accuracy: 0.8118 - val_loss: 0.3937 - val_accuracy: 0.8212\n",
      "Epoch 71/150\n",
      "72/72 [==============================] - 0s 548us/step - loss: 0.4128 - accuracy: 0.8287 - val_loss: 0.3986 - val_accuracy: 0.8324\n",
      "Epoch 72/150\n",
      "72/72 [==============================] - 0s 555us/step - loss: 0.4248 - accuracy: 0.8258 - val_loss: 0.4000 - val_accuracy: 0.8101\n",
      "Epoch 73/150\n",
      "72/72 [==============================] - 0s 564us/step - loss: 0.4301 - accuracy: 0.8202 - val_loss: 0.3942 - val_accuracy: 0.8156\n",
      "Epoch 74/150\n",
      "72/72 [==============================] - 0s 556us/step - loss: 0.4230 - accuracy: 0.8230 - val_loss: 0.4040 - val_accuracy: 0.8156\n",
      "Epoch 75/150\n",
      "72/72 [==============================] - 0s 556us/step - loss: 0.4154 - accuracy: 0.8230 - val_loss: 0.4016 - val_accuracy: 0.8212\n",
      "Epoch 76/150\n",
      "72/72 [==============================] - 0s 559us/step - loss: 0.4292 - accuracy: 0.8258 - val_loss: 0.3995 - val_accuracy: 0.8156\n",
      "Epoch 77/150\n",
      "72/72 [==============================] - 0s 571us/step - loss: 0.4195 - accuracy: 0.8258 - val_loss: 0.3964 - val_accuracy: 0.8212\n",
      "Epoch 78/150\n",
      "72/72 [==============================] - 0s 565us/step - loss: 0.4219 - accuracy: 0.8146 - val_loss: 0.4080 - val_accuracy: 0.8156\n",
      "Epoch 79/150\n",
      "72/72 [==============================] - 0s 553us/step - loss: 0.4357 - accuracy: 0.8132 - val_loss: 0.4078 - val_accuracy: 0.8156\n",
      "Epoch 80/150\n",
      "72/72 [==============================] - 0s 558us/step - loss: 0.4187 - accuracy: 0.8188 - val_loss: 0.3954 - val_accuracy: 0.8156\n",
      "Epoch 81/150\n",
      "72/72 [==============================] - 0s 543us/step - loss: 0.4226 - accuracy: 0.8272 - val_loss: 0.4356 - val_accuracy: 0.8101\n",
      "Epoch 82/150\n",
      "72/72 [==============================] - 0s 566us/step - loss: 0.4224 - accuracy: 0.8357 - val_loss: 0.4068 - val_accuracy: 0.8212\n",
      "Epoch 83/150\n",
      "72/72 [==============================] - 0s 559us/step - loss: 0.4155 - accuracy: 0.8174 - val_loss: 0.4063 - val_accuracy: 0.8212\n",
      "Epoch 84/150\n",
      "72/72 [==============================] - 0s 566us/step - loss: 0.4234 - accuracy: 0.8244 - val_loss: 0.4211 - val_accuracy: 0.8156\n",
      "Epoch 85/150\n",
      "72/72 [==============================] - 0s 551us/step - loss: 0.4198 - accuracy: 0.8230 - val_loss: 0.4260 - val_accuracy: 0.8045\n",
      "Epoch 86/150\n",
      "72/72 [==============================] - 0s 566us/step - loss: 0.4147 - accuracy: 0.8272 - val_loss: 0.3949 - val_accuracy: 0.8268\n",
      "Epoch 87/150\n",
      "72/72 [==============================] - 0s 557us/step - loss: 0.4141 - accuracy: 0.8301 - val_loss: 0.4106 - val_accuracy: 0.8156\n",
      "Epoch 88/150\n",
      "72/72 [==============================] - 0s 574us/step - loss: 0.4206 - accuracy: 0.8216 - val_loss: 0.4055 - val_accuracy: 0.8212\n",
      "Epoch 89/150\n",
      "72/72 [==============================] - 0s 572us/step - loss: 0.4148 - accuracy: 0.8202 - val_loss: 0.3966 - val_accuracy: 0.7989\n",
      "Epoch 90/150\n",
      "72/72 [==============================] - 0s 566us/step - loss: 0.4109 - accuracy: 0.8258 - val_loss: 0.3979 - val_accuracy: 0.8101\n",
      "Epoch 91/150\n",
      "72/72 [==============================] - 0s 565us/step - loss: 0.4023 - accuracy: 0.8258 - val_loss: 0.4011 - val_accuracy: 0.8268\n",
      "Epoch 92/150\n",
      "72/72 [==============================] - 0s 577us/step - loss: 0.4216 - accuracy: 0.8216 - val_loss: 0.4111 - val_accuracy: 0.8212\n",
      "Epoch 93/150\n",
      "72/72 [==============================] - 0s 564us/step - loss: 0.4032 - accuracy: 0.8244 - val_loss: 0.3991 - val_accuracy: 0.8156\n",
      "Epoch 94/150\n",
      "72/72 [==============================] - 0s 568us/step - loss: 0.4154 - accuracy: 0.8301 - val_loss: 0.4045 - val_accuracy: 0.8101\n",
      "Epoch 95/150\n",
      "72/72 [==============================] - 0s 574us/step - loss: 0.4217 - accuracy: 0.8329 - val_loss: 0.3980 - val_accuracy: 0.8045\n",
      "Epoch 96/150\n",
      "72/72 [==============================] - 0s 573us/step - loss: 0.4014 - accuracy: 0.8287 - val_loss: 0.4262 - val_accuracy: 0.8101\n",
      "Epoch 97/150\n",
      "72/72 [==============================] - 0s 567us/step - loss: 0.4157 - accuracy: 0.8244 - val_loss: 0.4243 - val_accuracy: 0.8156\n",
      "Epoch 98/150\n",
      "72/72 [==============================] - 0s 563us/step - loss: 0.4249 - accuracy: 0.8244 - val_loss: 0.4217 - val_accuracy: 0.8156\n",
      "Epoch 99/150\n",
      "72/72 [==============================] - 0s 569us/step - loss: 0.4130 - accuracy: 0.8244 - val_loss: 0.3962 - val_accuracy: 0.8324\n",
      "Epoch 100/150\n",
      "72/72 [==============================] - 0s 571us/step - loss: 0.4070 - accuracy: 0.8160 - val_loss: 0.4020 - val_accuracy: 0.7989\n",
      "Epoch 101/150\n",
      "72/72 [==============================] - 0s 563us/step - loss: 0.4006 - accuracy: 0.8329 - val_loss: 0.4086 - val_accuracy: 0.8156\n",
      "Epoch 102/150\n",
      "72/72 [==============================] - 0s 563us/step - loss: 0.4086 - accuracy: 0.8329 - val_loss: 0.4063 - val_accuracy: 0.8268\n",
      "Epoch 103/150\n",
      "72/72 [==============================] - 0s 575us/step - loss: 0.4083 - accuracy: 0.8287 - val_loss: 0.4099 - val_accuracy: 0.8156\n",
      "Epoch 104/150\n",
      "72/72 [==============================] - 0s 571us/step - loss: 0.4045 - accuracy: 0.8258 - val_loss: 0.4043 - val_accuracy: 0.8045\n",
      "Epoch 105/150\n",
      "72/72 [==============================] - 0s 571us/step - loss: 0.4139 - accuracy: 0.8301 - val_loss: 0.4014 - val_accuracy: 0.8101\n",
      "Epoch 106/150\n",
      "72/72 [==============================] - 0s 680us/step - loss: 0.4109 - accuracy: 0.8244 - val_loss: 0.4105 - val_accuracy: 0.8212\n",
      "Epoch 107/150\n",
      "72/72 [==============================] - 0s 588us/step - loss: 0.4038 - accuracy: 0.8399 - val_loss: 0.4008 - val_accuracy: 0.8156\n",
      "Epoch 108/150\n",
      "72/72 [==============================] - 0s 568us/step - loss: 0.4092 - accuracy: 0.8216 - val_loss: 0.4355 - val_accuracy: 0.8045\n",
      "Epoch 109/150\n",
      "72/72 [==============================] - 0s 561us/step - loss: 0.4060 - accuracy: 0.8315 - val_loss: 0.4046 - val_accuracy: 0.8045\n",
      "Epoch 110/150\n",
      "72/72 [==============================] - 0s 572us/step - loss: 0.4065 - accuracy: 0.8188 - val_loss: 0.4058 - val_accuracy: 0.8101\n",
      "Epoch 111/150\n",
      "72/72 [==============================] - 0s 575us/step - loss: 0.4215 - accuracy: 0.8216 - val_loss: 0.3997 - val_accuracy: 0.8212\n",
      "Epoch 112/150\n",
      "72/72 [==============================] - 0s 557us/step - loss: 0.4094 - accuracy: 0.8230 - val_loss: 0.4102 - val_accuracy: 0.8156\n",
      "Epoch 113/150\n",
      "72/72 [==============================] - 0s 589us/step - loss: 0.4074 - accuracy: 0.8329 - val_loss: 0.4023 - val_accuracy: 0.8101\n",
      "Epoch 114/150\n",
      "72/72 [==============================] - 0s 581us/step - loss: 0.4223 - accuracy: 0.8230 - val_loss: 0.4022 - val_accuracy: 0.8045\n",
      "Epoch 115/150\n",
      "72/72 [==============================] - 0s 565us/step - loss: 0.4160 - accuracy: 0.8244 - val_loss: 0.4160 - val_accuracy: 0.8101\n",
      "Epoch 116/150\n",
      "72/72 [==============================] - 0s 561us/step - loss: 0.4142 - accuracy: 0.8244 - val_loss: 0.4093 - val_accuracy: 0.8268\n",
      "Epoch 117/150\n",
      "72/72 [==============================] - 0s 566us/step - loss: 0.4020 - accuracy: 0.8272 - val_loss: 0.4067 - val_accuracy: 0.8212\n",
      "Epoch 118/150\n",
      "72/72 [==============================] - 0s 625us/step - loss: 0.4065 - accuracy: 0.8301 - val_loss: 0.4086 - val_accuracy: 0.8156\n",
      "Epoch 119/150\n",
      "72/72 [==============================] - 0s 637us/step - loss: 0.4142 - accuracy: 0.8230 - val_loss: 0.4158 - val_accuracy: 0.8156\n",
      "Epoch 120/150\n",
      "72/72 [==============================] - 0s 584us/step - loss: 0.4012 - accuracy: 0.8343 - val_loss: 0.4082 - val_accuracy: 0.8156\n",
      "Epoch 121/150\n",
      "72/72 [==============================] - 0s 575us/step - loss: 0.4140 - accuracy: 0.8258 - val_loss: 0.4101 - val_accuracy: 0.8156\n",
      "Epoch 122/150\n",
      "72/72 [==============================] - 0s 576us/step - loss: 0.4008 - accuracy: 0.8301 - val_loss: 0.4257 - val_accuracy: 0.8101\n",
      "Epoch 123/150\n",
      "72/72 [==============================] - 0s 563us/step - loss: 0.4098 - accuracy: 0.8230 - val_loss: 0.4191 - val_accuracy: 0.8156\n",
      "Epoch 124/150\n",
      "72/72 [==============================] - 0s 555us/step - loss: 0.4051 - accuracy: 0.8258 - val_loss: 0.4291 - val_accuracy: 0.8212\n",
      "Epoch 125/150\n",
      "72/72 [==============================] - 0s 565us/step - loss: 0.4040 - accuracy: 0.8202 - val_loss: 0.4479 - val_accuracy: 0.7877\n",
      "Epoch 126/150\n",
      "72/72 [==============================] - 0s 573us/step - loss: 0.4123 - accuracy: 0.8301 - val_loss: 0.4516 - val_accuracy: 0.7989\n",
      "Epoch 127/150\n",
      "72/72 [==============================] - 0s 553us/step - loss: 0.4023 - accuracy: 0.8329 - val_loss: 0.4033 - val_accuracy: 0.7989\n",
      "Epoch 128/150\n",
      "72/72 [==============================] - 0s 553us/step - loss: 0.4101 - accuracy: 0.8202 - val_loss: 0.4061 - val_accuracy: 0.8045\n",
      "Epoch 129/150\n",
      "72/72 [==============================] - 0s 563us/step - loss: 0.3984 - accuracy: 0.8258 - val_loss: 0.4073 - val_accuracy: 0.8156\n",
      "Epoch 130/150\n",
      "72/72 [==============================] - 0s 541us/step - loss: 0.4165 - accuracy: 0.8146 - val_loss: 0.4348 - val_accuracy: 0.8045\n",
      "Epoch 131/150\n",
      "72/72 [==============================] - 0s 548us/step - loss: 0.4247 - accuracy: 0.8244 - val_loss: 0.4358 - val_accuracy: 0.8156\n",
      "Epoch 132/150\n",
      "72/72 [==============================] - 0s 549us/step - loss: 0.4016 - accuracy: 0.8301 - val_loss: 0.4068 - val_accuracy: 0.8101\n",
      "Epoch 133/150\n",
      "72/72 [==============================] - 0s 545us/step - loss: 0.3999 - accuracy: 0.8343 - val_loss: 0.4250 - val_accuracy: 0.8045\n",
      "Epoch 134/150\n",
      "72/72 [==============================] - 0s 573us/step - loss: 0.4048 - accuracy: 0.8329 - val_loss: 0.4120 - val_accuracy: 0.8156\n",
      "Epoch 135/150\n",
      "72/72 [==============================] - 0s 567us/step - loss: 0.3926 - accuracy: 0.8287 - val_loss: 0.4026 - val_accuracy: 0.8101\n",
      "Epoch 136/150\n",
      "72/72 [==============================] - 0s 569us/step - loss: 0.3983 - accuracy: 0.8371 - val_loss: 0.4098 - val_accuracy: 0.8101\n",
      "Epoch 137/150\n",
      "72/72 [==============================] - 0s 560us/step - loss: 0.4295 - accuracy: 0.8244 - val_loss: 0.4063 - val_accuracy: 0.7989\n",
      "Epoch 138/150\n",
      "72/72 [==============================] - 0s 574us/step - loss: 0.3974 - accuracy: 0.8216 - val_loss: 0.4476 - val_accuracy: 0.7989\n",
      "Epoch 139/150\n",
      "72/72 [==============================] - 0s 550us/step - loss: 0.3979 - accuracy: 0.8287 - val_loss: 0.4251 - val_accuracy: 0.8101\n",
      "Epoch 140/150\n",
      "72/72 [==============================] - 0s 563us/step - loss: 0.3940 - accuracy: 0.8287 - val_loss: 0.4227 - val_accuracy: 0.8101\n",
      "Epoch 141/150\n",
      "72/72 [==============================] - 0s 546us/step - loss: 0.4082 - accuracy: 0.8315 - val_loss: 0.4190 - val_accuracy: 0.8101\n",
      "Epoch 142/150\n",
      "72/72 [==============================] - 0s 568us/step - loss: 0.4098 - accuracy: 0.8258 - val_loss: 0.4167 - val_accuracy: 0.8101\n",
      "Epoch 143/150\n",
      "72/72 [==============================] - 0s 567us/step - loss: 0.3979 - accuracy: 0.8230 - val_loss: 0.4337 - val_accuracy: 0.8212\n",
      "Epoch 144/150\n",
      "72/72 [==============================] - 0s 566us/step - loss: 0.3963 - accuracy: 0.8230 - val_loss: 0.4025 - val_accuracy: 0.8156\n",
      "Epoch 145/150\n",
      "72/72 [==============================] - 0s 571us/step - loss: 0.3951 - accuracy: 0.8329 - val_loss: 0.4296 - val_accuracy: 0.8101\n",
      "Epoch 146/150\n",
      "72/72 [==============================] - 0s 570us/step - loss: 0.4008 - accuracy: 0.8301 - val_loss: 0.4327 - val_accuracy: 0.8212\n",
      "Epoch 147/150\n",
      "72/72 [==============================] - 0s 562us/step - loss: 0.3903 - accuracy: 0.8343 - val_loss: 0.4311 - val_accuracy: 0.8101\n",
      "Epoch 148/150\n",
      "72/72 [==============================] - 0s 572us/step - loss: 0.3859 - accuracy: 0.8329 - val_loss: 0.4179 - val_accuracy: 0.7989\n",
      "Epoch 149/150\n",
      "72/72 [==============================] - 0s 555us/step - loss: 0.3942 - accuracy: 0.8188 - val_loss: 0.4246 - val_accuracy: 0.8045\n",
      "Epoch 150/150\n",
      "72/72 [==============================] - 0s 563us/step - loss: 0.4003 - accuracy: 0.8216 - val_loss: 0.4164 - val_accuracy: 0.8101\n"
     ]
    },
    {
     "data": {
      "text/plain": [
       "<keras.src.callbacks.History at 0x2864a2ec0>"
      ]
     },
     "execution_count": 96,
     "metadata": {},
     "output_type": "execute_result"
    }
   ],
   "source": [
    "kerasmodel.fit(X_train,Y_train,epochs=150,batch_size=10,validation_data=(X_test, Y_test))"
   ]
  },
  {
   "cell_type": "code",
   "execution_count": 97,
   "id": "0f19c2b9",
   "metadata": {
    "scrolled": true
   },
   "outputs": [
    {
     "name": "stdout",
     "output_type": "stream",
     "text": [
      "23/23 [==============================] - 0s 360us/step - loss: 0.3760 - accuracy: 0.8441\n",
      "train accuracy is: 84.41011309623718\n"
     ]
    }
   ],
   "source": [
    "#train accuracy\n",
    "loss_value,accuracy=kerasmodel.evaluate(X_train,Y_train)\n",
    "print(f'train accuracy is: {accuracy*100}')"
   ]
  },
  {
   "cell_type": "code",
   "execution_count": 98,
   "id": "e84e7d89",
   "metadata": {},
   "outputs": [
    {
     "name": "stdout",
     "output_type": "stream",
     "text": [
      "Test loss: 0.41644445061683655\n",
      "Test accuracy: 0.8100558519363403\n"
     ]
    },
    {
     "data": {
      "text/plain": [
       "[0.41644445061683655, 0.8100558519363403]"
      ]
     },
     "execution_count": 98,
     "metadata": {},
     "output_type": "execute_result"
    }
   ],
   "source": [
    "#test accuracy\n",
    "score = kerasmodel.evaluate(X_test, Y_test, verbose=0)\n",
    "print('Test loss:', score[0])\n",
    "print('Test accuracy:', score[1])\n",
    "score"
   ]
  },
  {
   "cell_type": "code",
   "execution_count": 99,
   "id": "0b0fb003",
   "metadata": {
    "scrolled": true
   },
   "outputs": [
    {
     "name": "stdout",
     "output_type": "stream",
     "text": [
      "18/18 [==============================] - 0s 383us/step\n"
     ]
    }
   ],
   "source": [
    "#predicting output\n",
    "y_pred=kerasmodel.predict(X_test,batch_size=10)\n",
    "y_pred;"
   ]
  },
  {
   "cell_type": "code",
   "execution_count": 100,
   "id": "9a912f26",
   "metadata": {},
   "outputs": [
    {
     "data": {
      "text/plain": [
       "array([[0.],\n",
       "       [0.],\n",
       "       [0.],\n",
       "       [1.],\n",
       "       [0.],\n",
       "       [1.],\n",
       "       [1.],\n",
       "       [1.],\n",
       "       [0.],\n",
       "       [0.],\n",
       "       [0.],\n",
       "       [1.],\n",
       "       [0.],\n",
       "       [1.],\n",
       "       [1.],\n",
       "       [1.],\n",
       "       [0.],\n",
       "       [0.],\n",
       "       [0.],\n",
       "       [1.],\n",
       "       [0.],\n",
       "       [1.],\n",
       "       [0.],\n",
       "       [0.],\n",
       "       [1.],\n",
       "       [1.],\n",
       "       [0.],\n",
       "       [1.],\n",
       "       [1.],\n",
       "       [1.],\n",
       "       [0.],\n",
       "       [1.],\n",
       "       [0.],\n",
       "       [0.],\n",
       "       [0.],\n",
       "       [0.],\n",
       "       [0.],\n",
       "       [0.],\n",
       "       [0.],\n",
       "       [0.],\n",
       "       [0.],\n",
       "       [0.],\n",
       "       [0.],\n",
       "       [0.],\n",
       "       [1.],\n",
       "       [0.],\n",
       "       [0.],\n",
       "       [1.],\n",
       "       [0.],\n",
       "       [0.],\n",
       "       [0.],\n",
       "       [0.],\n",
       "       [1.],\n",
       "       [0.],\n",
       "       [0.],\n",
       "       [0.],\n",
       "       [0.],\n",
       "       [0.],\n",
       "       [0.],\n",
       "       [0.],\n",
       "       [0.],\n",
       "       [0.],\n",
       "       [1.],\n",
       "       [0.],\n",
       "       [0.],\n",
       "       [0.],\n",
       "       [1.],\n",
       "       [0.],\n",
       "       [1.],\n",
       "       [1.],\n",
       "       [1.],\n",
       "       [0.],\n",
       "       [0.],\n",
       "       [0.],\n",
       "       [0.],\n",
       "       [0.],\n",
       "       [1.],\n",
       "       [0.],\n",
       "       [0.],\n",
       "       [0.],\n",
       "       [0.],\n",
       "       [0.],\n",
       "       [1.],\n",
       "       [0.],\n",
       "       [0.],\n",
       "       [1.],\n",
       "       [1.],\n",
       "       [0.],\n",
       "       [1.],\n",
       "       [0.],\n",
       "       [0.],\n",
       "       [0.],\n",
       "       [1.],\n",
       "       [1.],\n",
       "       [0.],\n",
       "       [0.],\n",
       "       [1.],\n",
       "       [0.],\n",
       "       [0.],\n",
       "       [0.],\n",
       "       [0.],\n",
       "       [0.],\n",
       "       [0.],\n",
       "       [0.],\n",
       "       [0.],\n",
       "       [0.],\n",
       "       [1.],\n",
       "       [0.],\n",
       "       [0.],\n",
       "       [1.],\n",
       "       [0.],\n",
       "       [1.],\n",
       "       [0.],\n",
       "       [1.],\n",
       "       [0.],\n",
       "       [1.],\n",
       "       [0.],\n",
       "       [1.],\n",
       "       [0.],\n",
       "       [1.],\n",
       "       [1.],\n",
       "       [0.],\n",
       "       [0.],\n",
       "       [0.],\n",
       "       [0.],\n",
       "       [0.],\n",
       "       [0.],\n",
       "       [0.],\n",
       "       [0.],\n",
       "       [0.],\n",
       "       [1.],\n",
       "       [0.],\n",
       "       [0.],\n",
       "       [0.],\n",
       "       [0.],\n",
       "       [0.],\n",
       "       [0.],\n",
       "       [0.],\n",
       "       [0.],\n",
       "       [0.],\n",
       "       [0.],\n",
       "       [1.],\n",
       "       [0.],\n",
       "       [1.],\n",
       "       [1.],\n",
       "       [1.],\n",
       "       [0.],\n",
       "       [1.],\n",
       "       [1.],\n",
       "       [0.],\n",
       "       [0.],\n",
       "       [1.],\n",
       "       [0.],\n",
       "       [0.],\n",
       "       [1.],\n",
       "       [0.],\n",
       "       [0.],\n",
       "       [0.],\n",
       "       [1.],\n",
       "       [1.],\n",
       "       [0.],\n",
       "       [0.],\n",
       "       [1.],\n",
       "       [0.],\n",
       "       [0.],\n",
       "       [0.],\n",
       "       [0.],\n",
       "       [0.],\n",
       "       [0.],\n",
       "       [0.],\n",
       "       [0.],\n",
       "       [1.],\n",
       "       [0.],\n",
       "       [0.],\n",
       "       [1.],\n",
       "       [0.],\n",
       "       [1.],\n",
       "       [0.],\n",
       "       [0.]], dtype=float32)"
      ]
     },
     "execution_count": 100,
     "metadata": {},
     "output_type": "execute_result"
    }
   ],
   "source": [
    "for i in range(len(y_pred)) :\n",
    "    if y_pred[i]<=0.5:\n",
    "        y_pred[i]=0\n",
    "    else:\n",
    "        y_pred[i]=1\n",
    "\n",
    "y_pred"
   ]
  },
  {
   "cell_type": "markdown",
   "id": "0791432a",
   "metadata": {},
   "source": [
    "## visualisation using heatmap"
   ]
  },
  {
   "cell_type": "code",
   "execution_count": 101,
   "id": "b1e03b8d",
   "metadata": {},
   "outputs": [
    {
     "data": {
      "text/plain": [
       "<tf.Tensor: shape=(2, 2), dtype=int32, numpy=\n",
       "array([[100,  10],\n",
       "       [ 24,  45]], dtype=int32)>"
      ]
     },
     "execution_count": 101,
     "metadata": {},
     "output_type": "execute_result"
    }
   ],
   "source": [
    "cm_ann=tf.math.confusion_matrix(Y_test,y_pred)\n",
    "cm_ann"
   ]
  },
  {
   "cell_type": "code",
   "execution_count": 115,
   "id": "0b2ff9a6",
   "metadata": {},
   "outputs": [
    {
     "data": {
      "text/plain": [
       "Text(0.5, 1.0, 'Results for ANN model')"
      ]
     },
     "execution_count": 115,
     "metadata": {},
     "output_type": "execute_result"
    },
    {
     "data": {
      "image/png": "[encoded data removed]",
      "text/plain": [
       "<Figure size 600x500 with 2 Axes>"
      ]
     },
     "metadata": {},
     "output_type": "display_data"
    }
   ],
   "source": [
    "\n",
    "import seaborn as sb\n",
    "plt.figure(figsize=(6,5))\n",
    "sb.heatmap(cm_ann,annot=True,cmap='copper')\n",
    "plt.xlabel('Predicted Value')\n",
    "plt.ylabel('True Value')\n",
    "plt.title('Results for ANN model')"
   ]
  },
  {
   "cell_type": "code",
   "execution_count": 158,
   "id": "ec53861e",
   "metadata": {},
   "outputs": [],
   "source": [
    "#predicting with MLPclassifier"
   ]
  },
  {
   "cell_type": "code",
   "execution_count": 105,
   "id": "adf7f0ed",
   "metadata": {},
   "outputs": [],
   "source": [
    "from sklearn.neural_network import MLPClassifier"
   ]
  },
  {
   "cell_type": "code",
   "execution_count": 106,
   "id": "725c9f4a",
   "metadata": {},
   "outputs": [],
   "source": [
    "ANN_Sklearn =  MLPClassifier(random_state=1, max_iter=800)"
   ]
  },
  {
   "cell_type": "code",
   "execution_count": 107,
   "id": "a70eccb4",
   "metadata": {},
   "outputs": [
    {
     "data": {
      "text/html": [
       "<style>#sk-container-id-3 {color: black;background-color: white;}#sk-container-id-3 pre{padding: 0;}#sk-container-id-3 div.sk-toggleable {background-color: white;}#sk-container-id-3 label.sk-toggleable__label {cursor: pointer;display: block;width: 100%;margin-bottom: 0;padding: 0.3em;box-sizing: border-box;text-align: center;}#sk-container-id-3 label.sk-toggleable__label-arrow:before {content: \"▸\";float: left;margin-right: 0.25em;color: #696969;}#sk-container-id-3 label.sk-toggleable__label-arrow:hover:before {color: black;}#sk-container-id-3 div.sk-estimator:hover label.sk-toggleable__label-arrow:before {color: black;}#sk-container-id-3 div.sk-toggleable__content {max-height: 0;max-width: 0;overflow: hidden;text-align: left;background-color: #f0f8ff;}#sk-container-id-3 div.sk-toggleable__content pre {margin: 0.2em;color: black;border-radius: 0.25em;background-color: #f0f8ff;}#sk-container-id-3 input.sk-toggleable__control:checked~div.sk-toggleable__content {max-height: 200px;max-width: 100%;overflow: auto;}#sk-container-id-3 input.sk-toggleable__control:checked~label.sk-toggleable__label-arrow:before {content: \"▾\";}#sk-container-id-3 div.sk-estimator input.sk-toggleable__control:checked~label.sk-toggleable__label {background-color: #d4ebff;}#sk-container-id-3 div.sk-label input.sk-toggleable__control:checked~label.sk-toggleable__label {background-color: #d4ebff;}#sk-container-id-3 input.sk-hidden--visually {border: 0;clip: rect(1px 1px 1px 1px);clip: rect(1px, 1px, 1px, 1px);height: 1px;margin: -1px;overflow: hidden;padding: 0;position: absolute;width: 1px;}#sk-container-id-3 div.sk-estimator {font-family: monospace;background-color: #f0f8ff;border: 1px dotted black;border-radius: 0.25em;box-sizing: border-box;margin-bottom: 0.5em;}#sk-container-id-3 div.sk-estimator:hover {background-color: #d4ebff;}#sk-container-id-3 div.sk-parallel-item::after {content: \"\";width: 100%;border-bottom: 1px solid gray;flex-grow: 1;}#sk-container-id-3 div.sk-label:hover label.sk-toggleable__label {background-color: #d4ebff;}#sk-container-id-3 div.sk-serial::before {content: \"\";position: absolute;border-left: 1px solid gray;box-sizing: border-box;top: 0;bottom: 0;left: 50%;z-index: 0;}#sk-container-id-3 div.sk-serial {display: flex;flex-direction: column;align-items: center;background-color: white;padding-right: 0.2em;padding-left: 0.2em;position: relative;}#sk-container-id-3 div.sk-item {position: relative;z-index: 1;}#sk-container-id-3 div.sk-parallel {display: flex;align-items: stretch;justify-content: center;background-color: white;position: relative;}#sk-container-id-3 div.sk-item::before, #sk-container-id-3 div.sk-parallel-item::before {content: \"\";position: absolute;border-left: 1px solid gray;box-sizing: border-box;top: 0;bottom: 0;left: 50%;z-index: -1;}#sk-container-id-3 div.sk-parallel-item {display: flex;flex-direction: column;z-index: 1;position: relative;background-color: white;}#sk-container-id-3 div.sk-parallel-item:first-child::after {align-self: flex-end;width: 50%;}#sk-container-id-3 div.sk-parallel-item:last-child::after {align-self: flex-start;width: 50%;}#sk-container-id-3 div.sk-parallel-item:only-child::after {width: 0;}#sk-container-id-3 div.sk-dashed-wrapped {border: 1px dashed gray;margin: 0 0.4em 0.5em 0.4em;box-sizing: border-box;padding-bottom: 0.4em;background-color: white;}#sk-container-id-3 div.sk-label label {font-family: monospace;font-weight: bold;display: inline-block;line-height: 1.2em;}#sk-container-id-3 div.sk-label-container {text-align: center;}#sk-container-id-3 div.sk-container {/* jupyter's `normalize.less` sets `[hidden] { display: none; }` but bootstrap.min.css set `[hidden] { display: none !important; }` so we also need the `!important` here to be able to override the default hidden behavior on the sphinx rendered scikit-learn.org. See: https://github.com/scikit-learn/scikit-learn/issues/21755 */display: inline-block !important;position: relative;}#sk-container-id-3 div.sk-text-repr-fallback {display: none;}</style><div id=\"sk-container-id-3\" class=\"sk-top-container\"><div class=\"sk-text-repr-fallback\"><pre>MLPClassifier(max_iter=800, random_state=1)</pre><b>In a Jupyter environment, please rerun this cell to show the HTML representation or trust the notebook. <br />On GitHub, the HTML representation is unable to render, please try loading this page with nbviewer.org.</b></div><div class=\"sk-container\" hidden><div class=\"sk-item\"><div class=\"sk-estimator sk-toggleable\"><input class=\"sk-toggleable__control sk-hidden--visually\" id=\"sk-estimator-id-3\" type=\"checkbox\" checked><label for=\"sk-estimator-id-3\" class=\"sk-toggleable__label sk-toggleable__label-arrow\">MLPClassifier</label><div class=\"sk-toggleable__content\"><pre>MLPClassifier(max_iter=800, random_state=1)</pre></div></div></div></div></div>"
      ],
      "text/plain": [
       "MLPClassifier(max_iter=800, random_state=1)"
      ]
     },
     "execution_count": 107,
     "metadata": {},
     "output_type": "execute_result"
    }
   ],
   "source": [
    "ANN_Sklearn.fit(X_train, Y_train)"
   ]
  },
  {
   "cell_type": "code",
   "execution_count": 108,
   "id": "eda18486",
   "metadata": {},
   "outputs": [
    {
     "data": {
      "text/plain": [
       "array([0, 0, 0, 1, 1, 1, 1, 1, 0, 0, 0, 1, 0, 1, 1, 1, 0, 0, 0, 0, 0, 1,\n",
       "       0, 0, 1, 1, 0, 1, 1, 1, 0, 1, 0, 0, 0, 0, 0, 0, 0, 0, 0, 0, 0, 0,\n",
       "       1, 0, 0, 1, 0, 0, 0, 0, 1, 0, 0, 0, 0, 0, 0, 0, 0, 0, 1, 0, 1, 0,\n",
       "       1, 0, 1, 1, 1, 0, 0, 0, 0, 1, 1, 0, 0, 0, 0, 0, 1, 0, 0, 1, 1, 0,\n",
       "       1, 0, 0, 0, 1, 1, 0, 0, 1, 0, 0, 0, 0, 0, 0, 0, 0, 1, 1, 0, 0, 1,\n",
       "       0, 1, 0, 1, 0, 1, 1, 1, 0, 1, 1, 0, 0, 0, 0, 0, 0, 0, 0, 0, 1, 0,\n",
       "       0, 1, 0, 0, 0, 0, 0, 0, 0, 1, 0, 1, 1, 1, 0, 1, 1, 0, 0, 1, 1, 0,\n",
       "       1, 0, 1, 0, 1, 1, 0, 0, 1, 0, 0, 0, 0, 0, 0, 0, 0, 1, 0, 0, 1, 0,\n",
       "       1, 0, 0])"
      ]
     },
     "execution_count": 108,
     "metadata": {},
     "output_type": "execute_result"
    }
   ],
   "source": [
    "Y_pred_Sklearn = ANN_Sklearn.predict(X_test)\n",
    "Y_pred_Sklearn"
   ]
  },
  {
   "cell_type": "code",
   "execution_count": 109,
   "id": "9f8d1954",
   "metadata": {},
   "outputs": [
    {
     "name": "stdout",
     "output_type": "stream",
     "text": [
      "Accuracy Score: 0.8156424581005587\n"
     ]
    }
   ],
   "source": [
    "Accuracy_Sklearn = accuracy_score(Y_pred_Sklearn, Y_test)\n",
    "print('Accuracy Score:', Accuracy_Sklearn)"
   ]
  },
  {
   "cell_type": "code",
   "execution_count": 111,
   "id": "5fe41e9b",
   "metadata": {},
   "outputs": [
    {
     "data": {
      "text/plain": [
       "<tf.Tensor: shape=(2, 2), dtype=int32, numpy=\n",
       "array([[97, 13],\n",
       "       [20, 49]], dtype=int32)>"
      ]
     },
     "execution_count": 111,
     "metadata": {},
     "output_type": "execute_result"
    }
   ],
   "source": [
    "cm_mlp=tf.math.confusion_matrix(Y_test,Y_pred_Sklearn)\n",
    "cm_mlp\n"
   ]
  },
  {
   "cell_type": "code",
   "execution_count": 116,
   "id": "1f7392f6",
   "metadata": {},
   "outputs": [
    {
     "data": {
      "text/plain": [
       "Text(0.5, 1.0, 'Results for ANN model')"
      ]
     },
     "execution_count": 116,
     "metadata": {},
     "output_type": "execute_result"
    },
    {
     "data": {
      "image/png": "[encoded data removed]",
      "text/plain": [
       "<Figure size 600x500 with 2 Axes>"
      ]
     },
     "metadata": {},
     "output_type": "display_data"
    }
   ],
   "source": [
    "import seaborn as sb\n",
    "plt.figure(figsize=(6,5))\n",
    "sb.heatmap(cm_mlp,annot=True)\n",
    "plt.xlabel('Predicted Value')\n",
    "plt.ylabel('True Value')\n",
    "plt.title('Results for ANN model')"
   ]
  },
  {
   "cell_type": "code",
   "execution_count": null,
   "id": "50bb706e",
   "metadata": {},
   "outputs": [],
   "source": []
  }
 ],
 "metadata": {
  "kernelspec": {
   "display_name": "Python 3 (ipykernel)",
   "language": "python",
   "name": "python3"
  },
  "language_info": {
   "codemirror_mode": {
    "name": "ipython",
    "version": 3
   },
   "file_extension": ".py",
   "mimetype": "text/x-python",
   "name": "python",
   "nbconvert_exporter": "python",
   "pygments_lexer": "ipython3",
   "version": "3.10.9"
  }
 },
 "nbformat": 4,
 "nbformat_minor": 5
}
